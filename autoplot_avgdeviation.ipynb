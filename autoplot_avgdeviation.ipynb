{
 "cells": [
  {
   "cell_type": "markdown",
   "metadata": {},
   "source": [
    "### This is for automatically plot histogram that shows the deviation of each measurement from average"
   ]
  },
  {
   "cell_type": "markdown",
   "metadata": {},
   "source": [
    "Pick a point on a single module, take average of the measurement, and calculate the deviations of each measurement for that module on that point from the average. Repeat for all points and all modules. It will allow us to estimate the uncertainty of measurement procedure."
   ]
  },
  {
   "cell_type": "code",
   "execution_count": 2,
   "metadata": {},
   "outputs": [],
   "source": [
    "from matplotlib import pyplot as plt\n",
    "# import csv\n",
    "import pandas as pd\n",
    "import numpy as np"
   ]
  },
  {
   "cell_type": "code",
   "execution_count": 3,
   "metadata": {},
   "outputs": [],
   "source": [
    "str_filename = 'SM measurements.csv'\n",
    "# str_module = '472-024-046'\n",
    "str_module = 'All Moduels'     #By default"
   ]
  },
  {
   "cell_type": "code",
   "execution_count": 4,
   "metadata": {},
   "outputs": [],
   "source": [
    "df = pd.read_csv(str_filename)\n",
    "# df"
   ]
  },
  {
   "cell_type": "markdown",
   "metadata": {},
   "source": [
    "Calculate glue layer thicknesses at four different positions"
   ]
  },
  {
   "cell_type": "code",
   "execution_count": 6,
   "metadata": {},
   "outputs": [],
   "source": [
    "df['GL1'] = df.module_p1 - df.LYSO_p1 - df.SiPM1_p1 - df.SiPM2_p4\n",
    "df['GL2'] = df.module_p2 - df.LYSO_p2 - df.SiPM1_p2 - df.SiPM2_p3\n",
    "df['GL3'] = df.module_p3 - df.LYSO_p3 - df.SiPM1_p3 - df.SiPM2_p2\n",
    "df['GL4'] = df.module_p4 - df.LYSO_p4 - df.SiPM1_p4 - df.SiPM2_p1\n",
    "# df"
   ]
  },
  {
   "cell_type": "code",
   "execution_count": null,
   "metadata": {},
   "outputs": [],
   "source": []
  }
 ],
 "metadata": {
  "kernelspec": {
   "display_name": "Python 3",
   "language": "python",
   "name": "python3"
  },
  "language_info": {
   "codemirror_mode": {
    "name": "ipython",
    "version": 3
   },
   "file_extension": ".py",
   "mimetype": "text/x-python",
   "name": "python",
   "nbconvert_exporter": "python",
   "pygments_lexer": "ipython3",
   "version": "3.8.8"
  }
 },
 "nbformat": 4,
 "nbformat_minor": 4
}
